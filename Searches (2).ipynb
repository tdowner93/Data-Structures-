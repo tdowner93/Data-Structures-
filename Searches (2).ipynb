{
 "cells": [
  {
   "cell_type": "code",
   "execution_count": 12,
   "id": "0e5da301-623c-414a-beec-146cf2886ea4",
   "metadata": {},
   "outputs": [],
   "source": [
    "bigList = []\n",
    "for num in range(0,1000):\n",
    "    bigList.append(num)"
   ]
  },
  {
   "cell_type": "code",
   "execution_count": 9,
   "id": "8318796a-9da0-440a-92e8-bbd3321180ab",
   "metadata": {
    "tags": []
   },
   "outputs": [
    {
     "name": "stdout",
     "output_type": "stream",
     "text": [
      "Found 20 at index 3 in 4 loops.\n"
     ]
    },
    {
     "data": {
      "text/plain": [
       "3"
      ]
     },
     "execution_count": 9,
     "metadata": {},
     "output_type": "execute_result"
    }
   ],
   "source": [
    "def LinearScan(array, target):\n",
    "    i = 0\n",
    "    while i < len(array):\n",
    "        if array[i] == target:\n",
    "            print(f'Found {target} at index {i} in {i+1} loops.')\n",
    "            return i\n",
    "        #print(i) # Show the what the index is in each loop\n",
    "        i += 1\n",
    "    print(f'Could not find {target} in list.')\n",
    "    return -1\n",
    "\n",
    "nums = [2,3,5,7,8,9,11,14,15,17,19,20,21,22,25,26,30]\n",
    "unsortedNums = [15,30,3,20,8,7,26,5,16,18,14,9,29]\n",
    "\n",
    "LinearScan(unsortedNums, 20)"
   ]
  },
  {
   "cell_type": "code",
   "execution_count": 27,
   "id": "428c85f5-929a-4a7a-a2c2-b408753c904c",
   "metadata": {},
   "outputs": [
    {
     "name": "stdout",
     "output_type": "stream",
     "text": [
      "0\t8\t16\n",
      "9\t12\t16\n",
      "Found 19 at index 10 in 3 loops.\n"
     ]
    },
    {
     "data": {
      "text/plain": [
       "10"
      ]
     },
     "execution_count": 27,
     "metadata": {},
     "output_type": "execute_result"
    }
   ],
   "source": [
    "import math as m\n",
    "\n",
    "def BinarySearch(array, target):\n",
    "    high = len(array)-1\n",
    "    low = 0\n",
    "    i = 1\n",
    "    while low <= high:\n",
    "        mid = m.floor((high+low)/2)\n",
    "        if array[mid] == target:\n",
    "            print(f'Found {target} at index {mid} in {i} loops.')\n",
    "            return mid\n",
    "        print(f'{low}\\t{mid}\\t{high}')\n",
    "        if array[mid] < target:\n",
    "            low = mid+1\n",
    "        else:\n",
    "            high = mid-1\n",
    "        i += 1\n",
    "        #print(nums[mid])\n",
    "    print(f'Could not find {target} in list.')\n",
    "    return -1\n",
    "\n",
    "# bigList is a list of numbers from 0 - 999\n",
    "nums = [2,3,5,7,8,9,11,14,15,17,19,20,21,22,25,26,30]\n",
    "\n",
    "BinarySearch(nums, 19)"
   ]
  },
  {
   "cell_type": "code",
   "execution_count": 16,
   "id": "41657332-e9c2-4e74-b897-2c6a0cd1f295",
   "metadata": {},
   "outputs": [
    {
     "data": {
      "text/plain": [
       "8"
      ]
     },
     "execution_count": 16,
     "metadata": {},
     "output_type": "execute_result"
    }
   ],
   "source": [
    "round(7.8)"
   ]
  },
  {
   "cell_type": "code",
   "execution_count": 17,
   "id": "76788e8f-5730-4123-a596-6339bcad7943",
   "metadata": {},
   "outputs": [
    {
     "data": {
      "text/plain": [
       "7"
      ]
     },
     "execution_count": 17,
     "metadata": {},
     "output_type": "execute_result"
    }
   ],
   "source": [
    "m.floor(7.8)"
   ]
  },
  {
   "cell_type": "code",
   "execution_count": 24,
   "id": "d61121f6-70ac-49c1-8b38-e4f43d4d9098",
   "metadata": {},
   "outputs": [
    {
     "data": {
      "text/plain": [
       "8"
      ]
     },
     "execution_count": 24,
     "metadata": {},
     "output_type": "execute_result"
    }
   ],
   "source": [
    "m.ceil(7.8)"
   ]
  },
  {
   "cell_type": "code",
   "execution_count": null,
   "id": "7476f6bb-66e0-42a3-9751-f2eb350099dd",
   "metadata": {},
   "outputs": [],
   "source": []
  }
 ],
 "metadata": {
  "kernelspec": {
   "display_name": "Python 3 (ipykernel)",
   "language": "python",
   "name": "python3"
  },
  "language_info": {
   "codemirror_mode": {
    "name": "ipython",
    "version": 3
   },
   "file_extension": ".py",
   "mimetype": "text/x-python",
   "name": "python",
   "nbconvert_exporter": "python",
   "pygments_lexer": "ipython3",
   "version": "3.10.9"
  }
 },
 "nbformat": 4,
 "nbformat_minor": 5
}
