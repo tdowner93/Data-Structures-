{
 "cells": [
  {
   "cell_type": "code",
   "execution_count": 4,
   "id": "addb34fc-aec9-4697-9422-9bcdd2ff8ac6",
   "metadata": {},
   "outputs": [],
   "source": [
    "def floor(num):\n",
    "    return round(num-0.5)\n",
    "\n",
    "class binaryTree:\n",
    "    def __init__(self, data): # Initializes the binary tree from a python list\n",
    "        if type(data) == int or type(data) == float:\n",
    "            self.head = binaryTreeNode(data)\n",
    "        elif type(data) == list:\n",
    "            self.head = binaryTreeNode(data[0])\n",
    "            for i in range(1,len(data)):\n",
    "                self.insert(data[i])\n",
    "        else:\n",
    "            raise Exception(\"Please enter either a number or list of numbers\")\n",
    "        \n",
    "    def lookup(self, value, showPath = True): # Return a node in the tree and the path to get there\n",
    "        current = self.head\n",
    "        path = ''\n",
    "        point = ''\n",
    "        while True:\n",
    "            try:\n",
    "                if value == current.value:\n",
    "                    path += point + str(current.value)\n",
    "                    break\n",
    "                elif value < current.value:\n",
    "                    path += point + str(current.value)\n",
    "                    current = current.lChild\n",
    "                    point = ' ↘ '\n",
    "                else:\n",
    "                    path += point + str(current.value)\n",
    "                    current = current.rChild\n",
    "                    point = ' ↗ '\n",
    "            except AttributeError:\n",
    "                path += point + 'X'\n",
    "                current = -1\n",
    "                break\n",
    "        if showPath == True:\n",
    "            print(path)\n",
    "        return current\n",
    "    \n",
    "    def insert(self, value):\n",
    "        current = self.head\n",
    "        while True:\n",
    "            if value < current.value:\n",
    "                if current.lChild == None:\n",
    "                    current.lChild = binaryTreeNode(value)\n",
    "                    break\n",
    "                else:\n",
    "                    current = current.lChild\n",
    "            else:\n",
    "                if current.rChild == None:\n",
    "                    current.rChild = binaryTreeNode(value)\n",
    "                    break\n",
    "                else:\n",
    "                    current = current.rChild\n",
    "    \n",
    "    def display(self):\n",
    "        lines, *_ = self.head._display_aux()\n",
    "        for line in lines:\n",
    "            print(line)\n",
    "                    \n",
    "class binaryTreeNode: # Class for each node in a binary tree\n",
    "    def __init__(self, value, leftChild = None, rightChild = None):\n",
    "        self.value = value\n",
    "        self.lChild = leftChild\n",
    "        self.rChild = rightChild\n",
    "     \n",
    "    # The following function was repurposed from user J. V. at https://stackoverflow.com/questions/34012886/print-binary-tree-level-by-level-in-python\n",
    "    def _display_aux(self):\n",
    "        \"\"\"Returns list of strings, width, height, and horizontal coordinate of the root.\"\"\"\n",
    "        # No child.\n",
    "        if self.rChild is None and self.lChild is None:\n",
    "            line = '%s' % self.value\n",
    "            width = len(line)\n",
    "            height = 1\n",
    "            middle = width // 2\n",
    "            return [line], width, height, middle\n",
    "\n",
    "        # Only left child.\n",
    "        if self.rChild is None:\n",
    "            lines, n, p, x = self.lChild._display_aux()\n",
    "            s = '%s' % self.value\n",
    "            u = len(s)\n",
    "            first_line = (x + 1) * ' ' + (n - x - 1) * '_' + s\n",
    "            second_line = x * ' ' + '/' + (n - x - 1 + u) * ' '\n",
    "            shifted_lines = [line + u * ' ' for line in lines]\n",
    "            return [first_line, second_line] + shifted_lines, n + u, p + 2, n + u // 2\n",
    "\n",
    "        # Only right child.\n",
    "        if self.lChild is None:\n",
    "            lines, n, p, x = self.rChild._display_aux()\n",
    "            s = '%s' % self.value\n",
    "            u = len(s)\n",
    "            first_line = s + x * '_' + (n - x) * ' '\n",
    "            second_line = (u + x) * ' ' + '\\\\' + (n - x - 1) * ' '\n",
    "            shifted_lines = [u * ' ' + line for line in lines]\n",
    "            return [first_line, second_line] + shifted_lines, n + u, p + 2, u // 2\n",
    "\n",
    "        # Two children.\n",
    "        left, n, p, x = self.lChild._display_aux()\n",
    "        right, m, q, y = self.rChild._display_aux()\n",
    "        s = '%s' % self.value\n",
    "        u = len(s)\n",
    "        first_line = (x + 1) * ' ' + (n - x - 1) * '_' + s + y * '_' + (m - y) * ' '\n",
    "        second_line = x * ' ' + '/' + (n - x - 1 + u + y) * ' ' + '\\\\' + (m - y - 1) * ' '\n",
    "        if p < q:\n",
    "            left += [n * ' '] * (q - p)\n",
    "        elif q < p:\n",
    "            right += [m * ' '] * (p - q)\n",
    "        zipped_lines = zip(left, right)\n",
    "        lines = [first_line, second_line] + [a + u * ' ' + b for a, b in zipped_lines]\n",
    "        return lines, n + m + u, max(p, q) + 2, n + u // 2\n"
   ]
  },
  {
   "cell_type": "code",
   "execution_count": 5,
   "id": "b3b9207c-2751-4ec9-aade-16577b34e988",
   "metadata": {},
   "outputs": [
    {
     "name": "stdout",
     "output_type": "stream",
     "text": [
      " _8         \n",
      "/  \\        \n",
      "2  9_       \n",
      " \\   \\      \n",
      " 3  10_____ \n",
      "           \\\n",
      "        __20\n",
      "       /    \n",
      "      13_   \n",
      "         \\  \n",
      "        19  \n"
     ]
    }
   ],
   "source": [
    "tree = binaryTree([8,2,9,3,10,20,13,19])\n",
    "tree.display()"
   ]
  },
  {
   "cell_type": "code",
   "execution_count": 11,
   "id": "1ccb9910-fb3f-4ded-ae89-97f838d51880",
   "metadata": {},
   "outputs": [
    {
     "name": "stdout",
     "output_type": "stream",
     "text": [
      "                                                     __________________50_________________________                                                \n",
      "                                                    /                                             \\                                               \n",
      "                                       ____________38_______               ______________________73_______________                                \n",
      "                                      /                     \\             /                                       \\                               \n",
      "                                     30___               __42_           51_____________________             ____84___                            \n",
      "                                    /     \\             /     \\                                 \\           /         \\                           \n",
      "                                 __29    33___         40_   43_____               ____________70        __78___     86_______                    \n",
      "                                /       /     \\       /   \\         \\             /                     /       \\   /         \\                   \n",
      "      _________________________26_     31    35___   39  41        47_         __57_                 __76_     83  85    ____90_________________  \n",
      "     /                            \\         /     \\               /   \\       /     \\               /     \\   /         /                       \\ \n",
      " ____8______________________     27        34    37              46  49      53_   59_____         74_   77  82        87_           __________100\n",
      "/                           \\                   /               /           /   \\         \\           \\                   \\         /             \n",
      "0_                     ____24_                 36              44          52  54        67___       75                  88_       93_______      \n",
      "  \\                   /       \\                                                         /     \\                             \\     /         \\     \n",
      "  5    ______________21_     25                                                        63    69                            89    92        98_    \n",
      " / \\  /                 \\                                                             /     /                                   /         /   \\   \n",
      " 1 6  9_               22_                                                           61    68                                  91        96  99   \n",
      "    \\   \\                 \\                                                                                                             /         \n",
      "    7  10_               23                                                                                                            95         \n",
      "          \\                                                                                                                           /           \n",
      "         11_                                                                                                                         94           \n",
      "            \\                                                                                                                                     \n",
      "           12_____                                                                                                                                \n",
      "                  \\                                                                                                                               \n",
      "                 19_                                                                                                                              \n",
      "                /   \\                                                                                                                             \n",
      "               16  20                                                                                                                             \n",
      "              /                                                                                                                                   \n",
      "             13                                                                                                                                   \n"
     ]
    }
   ],
   "source": [
    "import random\n",
    "randTree = binaryTree(50)\n",
    "c = 0\n",
    "while c < 75: # While loop that inserts 75 random unique numbers into the tree\n",
    "    i = random.randint(0,100)\n",
    "    if randTree.lookup(i, False) == -1: # Only insert a random number if it doesn't already exist in the tree\n",
    "        randTree.insert(i)\n",
    "        c += 1\n",
    "randTree.display()"
   ]
  },
  {
   "cell_type": "code",
   "execution_count": 12,
   "id": "70e2ecf7-d660-402a-9b77-fe53c01c09dc",
   "metadata": {},
   "outputs": [
    {
     "name": "stdout",
     "output_type": "stream",
     "text": [
      "50 ↘ 38 ↘ 30 ↘ 29 ↘ 26 ↘ 8 ↗ 24 ↘ 21 ↘ 9 ↗ 10 ↗ 11 ↗ 12 ↗ 19 ↘ 16 ↘ 13\n"
     ]
    },
    {
     "data": {
      "text/plain": [
       "<__main__.binaryTreeNode at 0x189702fda20>"
      ]
     },
     "execution_count": 12,
     "metadata": {},
     "output_type": "execute_result"
    }
   ],
   "source": [
    "randTree.lookup(13)"
   ]
  },
  {
   "cell_type": "code",
   "execution_count": null,
   "id": "a5181bec-8330-4d11-afdb-dae51cf7c1b8",
   "metadata": {},
   "outputs": [],
   "source": []
  }
 ],
 "metadata": {
  "kernelspec": {
   "display_name": "Python 3 (ipykernel)",
   "language": "python",
   "name": "python3"
  },
  "language_info": {
   "codemirror_mode": {
    "name": "ipython",
    "version": 3
   },
   "file_extension": ".py",
   "mimetype": "text/x-python",
   "name": "python",
   "nbconvert_exporter": "python",
   "pygments_lexer": "ipython3",
   "version": "3.10.9"
  }
 },
 "nbformat": 4,
 "nbformat_minor": 5
}
