{
  "nbformat": 4,
  "nbformat_minor": 0,
  "metadata": {
    "colab": {
      "provenance": [],
      "toc_visible": true
    },
    "kernelspec": {
      "name": "python3",
      "display_name": "Python 3"
    },
    "language_info": {
      "name": "python"
    }
  },
  "cells": [
    {
      "cell_type": "code",
      "execution_count": null,
      "metadata": {
        "colab": {
          "base_uri": "https://localhost:8080/"
        },
        "id": "--yNaRsN33mF",
        "outputId": "ebbad25b-451c-479c-bd3d-6e3e22fb26df"
      },
      "outputs": [
        {
          "output_type": "stream",
          "name": "stdout",
          "text": [
            "The sorted list is:  [0, 1, 2, 3, 4, 5, 6, 7, 8, 9]\n"
          ]
        }
      ],
      "source": [
        "def insertion_sort(lst):\n",
        "  #The loop starts from the second element (index 1) and goes through each element in the list.\n",
        "   for i in range(1, len(lst)):\n",
        "    j = i\n",
        "    #This loop compares the current element with the one before it.\n",
        "    while (j > 0) and lst[j-1] > lst[j]:\n",
        "      lst[j-1], lst[j] = lst[j], lst[j-1] #swap the elements\n",
        "      #After the swap, the index j is going down to continue moving the element left.\n",
        "      j -=1\n",
        "\n",
        "#sort a list\n",
        "L = [5, 2, 9, 3, 6, 1, 0, 7, 4, 8]\n",
        "insertion_sort(L)\n",
        "print(\"The sorted list is: \", L)"
      ]
    },
    {
      "cell_type": "code",
      "source": [
        "def StringEqual(str1, str2):\n",
        "    # Check if the lengths different\n",
        "    if len(str1) != len(str2):\n",
        "        return False\n",
        "\n",
        "    # Get the length of the strings\n",
        "    N = len(str1)\n",
        "\n",
        "    # Initialize\n",
        "    i = 0\n",
        "\n",
        "    # Compare the strings character by character\n",
        "    while i < N and str1[i] == str2[i]:\n",
        "        i += 1\n",
        "\n",
        "    # If the loop completes, the strings are equal\n",
        "    return i == N\n",
        "\n",
        "result = StringEqual(\"hello\", \"hello\")\n",
        "print(result)  # Output: True\n",
        "\n",
        "result = StringEqual(\"hello\", \"hellr\")\n",
        "print(result)  # Output: False"
      ],
      "metadata": {
        "colab": {
          "base_uri": "https://localhost:8080/"
        },
        "id": "yyxvYs6dZujl",
        "outputId": "d8a2f3d2-a5da-4546-cd18-deadf61d5a07"
      },
      "execution_count": null,
      "outputs": [
        {
          "output_type": "stream",
          "name": "stdout",
          "text": [
            "True\n",
            "False\n"
          ]
        }
      ]
    }
  ]
}